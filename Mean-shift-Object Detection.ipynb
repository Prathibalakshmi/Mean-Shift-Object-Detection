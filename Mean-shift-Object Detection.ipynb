{
 "cells": [
  {
   "cell_type": "markdown",
   "id": "1b57873b",
   "metadata": {},
   "source": [
    "# <center> Mean-Shift: Single Object Tracking in Images <center>\n"
   ]
  },
  {
   "cell_type": "markdown",
   "id": "443892a0",
   "metadata": {},
   "source": [
    "Object tracking is one of the most popular areas of video processing. The main purpose of \n",
    "object tracking is to estimate the position of the object in images continuously and reliably \n",
    "against dynamic scenes. This can be achieved by using the mean shift object tracking \n",
    "algorithm. The mean shift algorithm is an efficient approach to tracking objects whose \n",
    "appearance is defined by histograms. Thus, it can be used to track non-rigid objects by \n",
    "discovering clusters in a smooth density of samples."
   ]
  },
  {
   "cell_type": "markdown",
   "id": "ee10ff28",
   "metadata": {},
   "source": [
    "### Question:\n",
    "Using OpenCV implement a single object tracker. Steps to be implemented:\n",
    "a) Use a pre-recorded video or your webcam to have a video Capture object.\n",
    "b) Mark the region of interest (ROI or the object you want to track) using it\n",
    "coordinates in the first frame.\n",
    "c) Calculate the histogram of the ROI.\n",
    "d) Iteratively calculate the histogram at each location (using cv2,calcBackProject)\n",
    "and then apply mean shift to get the updated location of the ROI"
   ]
  },
  {
   "attachments": {},
   "cell_type": "markdown",
   "id": "d4c269fe",
   "metadata": {},
   "source": [
    "### Procedure\n",
    " - Import Libraries\n",
    "- Initialize the video captre from either a pre-recorded video or web cam\n",
    "- Specific video path (Live – streaming path, recorded – log path)\n",
    "- Creating ROI (Region of Interest)\n",
    "- Number plate (ROI) – Value\n",
    "- Create a condition to check whether that input of ROI is visible in the screen which being captured or not. \n",
    "- Calculate the histogram of ROI \n",
    "- Perform normalization with respect to CV2\n",
    "- We need to create a frame start tracking loop to the frame end tracking .\n",
    "- When the object is about to start, tracking loop must start\n",
    "- If the object reached the destination, the tracking loop must stop (Terminate)\n",
    "- Uber (Ride sharing – GPS vehicle. Tracking loop starts from source, terminates when object reaches destination)\n"
   ]
  },
  {
   "cell_type": "code",
   "execution_count": 1,
   "id": "26a213c5",
   "metadata": {},
   "outputs": [],
   "source": [
    "# Import Libraries\n",
    "import cv2\n",
    "import numpy as np\n",
    "\n",
    "# You can replace 'video_file_path' with the path to your pre-recorded video\n",
    "# or set it to 0 to use your webcam\n",
    "video_capture = cv2.VideoCapture(1)\n",
    "\n",
    "ret, frame = video_capture.read()\n",
    "if not ret:\n",
    "    print(\"Failed to read the video frame.\")\n",
    "    exit()\n",
    "\n",
    "x, y, w, h = cv2.selectROI(\"Select ROI\", frame, fromCenter=False, showCrosshair=True)\n",
    "roi = frame[y:y+h, x:x+w]\n",
    "\n",
    "hsv_roi = cv2.cvtColor(roi, cv2.COLOR_BGR2HSV)\n",
    "hist_roi = cv2.calcHist([hsv_roi], [0], None, [180], [0, 180])\n",
    "cv2.normalize(hist_roi, hist_roi, 0, 255, cv2.NORM_MINMAX)\n",
    "\n",
    "term_crit = (cv2.TERM_CRITERIA_EPS | cv2.TERM_CRITERIA_COUNT, 10, 1)\n",
    "\n",
    "while True:\n",
    "    ret, frame = video_capture.read()\n",
    "    if not ret:\n",
    "        break\n",
    "\n",
    "    hsv = cv2.cvtColor(frame, cv2.COLOR_BGR2HSV)\n",
    "    back_project = cv2.calcBackProject([hsv], [0], hist_roi, [0, 180], 1)\n",
    "    \n",
    "    ret, track_window = cv2.meanShift(back_project, (x, y, w, h), term_crit)\n",
    "    \n",
    "    x, y, w, h = track_window\n",
    "    \n",
    "    cv2.rectangle(frame, (x, y), (x + w, y + h), (0, 255, 0), 2)\n",
    "    \n",
    "    cv2.imshow('Tracking', frame)\n",
    "    \n",
    "    if cv2.waitKey(30) & 0xFF == 27:\n",
    "        break\n",
    "\n",
    "video_capture.release()\n",
    "cv2.destroyAllWindows()"
   ]
  },
  {
   "cell_type": "code",
   "execution_count": null,
   "id": "0b2caab6",
   "metadata": {},
   "outputs": [],
   "source": []
  }
 ],
 "metadata": {
  "kernelspec": {
   "display_name": "Python 3 (ipykernel)",
   "language": "python",
   "name": "python3"
  },
  "language_info": {
   "codemirror_mode": {
    "name": "ipython",
    "version": 3
   },
   "file_extension": ".py",
   "mimetype": "text/x-python",
   "name": "python",
   "nbconvert_exporter": "python",
   "pygments_lexer": "ipython3",
   "version": "3.10.9"
  }
 },
 "nbformat": 4,
 "nbformat_minor": 5
}
